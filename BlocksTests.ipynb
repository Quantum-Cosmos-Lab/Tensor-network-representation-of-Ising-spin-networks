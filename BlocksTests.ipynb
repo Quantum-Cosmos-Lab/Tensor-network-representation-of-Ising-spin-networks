{
 "cells": [
  {
   "cell_type": "code",
   "execution_count": 156,
   "metadata": {},
   "outputs": [],
   "source": [
    "import pennylane as qml\n",
    "from pennylane import numpy as np\n",
    "import matplotlib.pyplot as plt"
   ]
  },
  {
   "cell_type": "code",
   "execution_count": 157,
   "metadata": {},
   "outputs": [],
   "source": [
    "from BlockDefinitions import *"
   ]
  },
  {
   "cell_type": "code",
   "execution_count": 158,
   "metadata": {},
   "outputs": [],
   "source": [
    "iota = {    (0, 0, 1, 0, 1): 0.5,\n",
    "            (0, 0, 1, 1, 0): -0.5,\n",
    "            (0, 1, 0, 0, 1): -0.5,\n",
    "            (0, 1, 0, 1, 0): 0.5,\n",
    "            (1, 0, 0, 1, 1): 0.577350269189626,\n",
    "            (1, 0, 1, 0, 1): -0.288675134594813,\n",
    "            (1, 0, 1, 1, 0): -0.288675134594813,\n",
    "            (1, 1, 0, 0, 1): -0.288675134594813,\n",
    "            (1, 1, 0, 1, 0): -0.288675134594813,\n",
    "            (1, 1, 1, 0, 0): 0.577350269189626}\n",
    "\n",
    "iota_arr = np.zeros((2,2,2,2,2))\n",
    "for k in iota.keys():\n",
    "    iota_arr[k[0],k[1],k[2],k[3],k[4]] = iota[k]"
   ]
  },
  {
   "cell_type": "code",
   "execution_count": 159,
   "metadata": {},
   "outputs": [
    {
     "data": {
      "text/plain": [
       "True"
      ]
     },
     "execution_count": 159,
     "metadata": {},
     "output_type": "execute_result"
    }
   ],
   "source": [
    "n_wires = 5\n",
    "dev = qml.device('lightning.qubit', wires = n_wires)\n",
    "k = [0]\n",
    "m = [1,2,3,4]\n",
    "proj = []\n",
    "    \n",
    "def circ():\n",
    "    circA(wires=[0,1,2,3,4])\n",
    "\n",
    "U = qml.matrix(circ, wire_order=range(5))()\n",
    "L = np.array([1]+(2**n_wires-1)*[0])\n",
    "M = np.real_if_close(U.dot(L))\n",
    "Ma = iota_arr.flatten()\n",
    "Ma = Ma/np.sqrt(Ma.dot(Ma.conj()))\n",
    "np.allclose(M,Ma)"
   ]
  },
  {
   "cell_type": "code",
   "execution_count": 160,
   "metadata": {},
   "outputs": [
    {
     "data": {
      "text/plain": [
       "True"
      ]
     },
     "execution_count": 160,
     "metadata": {},
     "output_type": "execute_result"
    }
   ],
   "source": [
    "n_wires = 5\n",
    "dev = qml.device('lightning.qubit', wires = n_wires)\n",
    "    \n",
    "def circ():\n",
    "    qml.RY(np.pi, wires=[1])\n",
    "    circB(wires=[0,1,2,3,4])\n",
    "\n",
    "U = qml.matrix(circ, wire_order=range(5))()\n",
    "L = np.kron(np.kron([1,0],np.eye(2)), [1,0,0,0,0,0,0,0]).T\n",
    "R = np.kron(np.kron(np.eye(2),[1,0]),np.eye(2**3))\n",
    "M = np.real_if_close(R.dot(U).dot(L))\n",
    "Ma = np.array([iota_arr[:,0,:,:,:].flatten(),iota_arr[:,1,:,:,:].flatten()]).T\n",
    "Ma = Ma/np.sqrt((Ma.T.dot(Ma.conj())).trace())\n",
    "np.allclose(M,Ma)"
   ]
  },
  {
   "cell_type": "code",
   "execution_count": 161,
   "metadata": {},
   "outputs": [
    {
     "data": {
      "text/plain": [
       "True"
      ]
     },
     "execution_count": 161,
     "metadata": {},
     "output_type": "execute_result"
    }
   ],
   "source": [
    "n_wires = 4\n",
    "dev = qml.device('lightning.qubit', wires = n_wires)\n",
    "    \n",
    "def circ():\n",
    "    qml.RY(np.pi, wires=[0])\n",
    "    qml.RY(np.pi, wires=[1])\n",
    "    circC(wires=[0,1,2,3])\n",
    "\n",
    "U = qml.matrix(circ, wire_order=range(4))()\n",
    "L = np.kron(np.eye(4),[1,0,0,0]).T\n",
    "R = np.kron(np.kron(np.eye(2),[1,0]),np.eye(4))\n",
    "M = np.real_if_close(R.dot(U).dot(L))\n",
    "M = M/np.sqrt((M.T.dot(M.conj())).trace())\n",
    "Ma = np.array([iota_arr[:,0,0,:,:].flatten(),iota_arr[:,0,1,:,:].flatten(),iota_arr[:,1,0,:,:].flatten(),iota_arr[:,1,1,:,:].flatten()]).T\n",
    "Ma = Ma/np.sqrt((Ma.T.dot(Ma.conj())).trace())\n",
    "np.allclose(M,Ma)"
   ]
  },
  {
   "cell_type": "code",
   "execution_count": 162,
   "metadata": {},
   "outputs": [
    {
     "data": {
      "text/plain": [
       "True"
      ]
     },
     "execution_count": 162,
     "metadata": {},
     "output_type": "execute_result"
    }
   ],
   "source": [
    "n_wires = 4\n",
    "dev = qml.device('lightning.qubit', wires = n_wires)\n",
    "    \n",
    "def circ():\n",
    "    qml.RY(np.pi, wires=[0])\n",
    "    qml.RY(np.pi, wires=[1])\n",
    "    qml.RY(np.pi, wires=[2])\n",
    "    circD(wires=[0,1,2,3])\n",
    "\n",
    "U = qml.matrix(circ, wire_order=range(4))()\n",
    "L = np.kron(np.eye(8),[1,0]).T\n",
    "R = np.kron(np.kron(np.eye(2),[1,0,0,0]),np.eye(2))\n",
    "M = np.real_if_close(R.dot(U).dot(L))\n",
    "M = M/np.sqrt((M.T.dot(M.conj())).trace())\n",
    "Ma = np.array([iota_arr[:,0,0,0,:].flatten(),iota_arr[:,0,0,1,:].flatten(),iota_arr[:,0,1,0,:].flatten(),iota_arr[:,0,1,1,:].flatten(),\n",
    "               iota_arr[:,1,0,0,:].flatten(),iota_arr[:,1,0,1,:].flatten(),iota_arr[:,1,1,0,:].flatten(),iota_arr[:,1,1,1,:].flatten()]).T\n",
    "Ma = Ma/np.sqrt((Ma.T.dot(Ma.conj())).trace())\n",
    "np.allclose(M,Ma)"
   ]
  },
  {
   "cell_type": "code",
   "execution_count": 163,
   "metadata": {},
   "outputs": [
    {
     "data": {
      "text/plain": [
       "True"
      ]
     },
     "execution_count": 163,
     "metadata": {},
     "output_type": "execute_result"
    }
   ],
   "source": [
    "n_wires = 4\n",
    "dev = qml.device('lightning.qubit', wires = n_wires)\n",
    "    \n",
    "def circ():\n",
    "    qml.RY(np.pi, wires=[0])\n",
    "    qml.RY(np.pi, wires=[1])\n",
    "    qml.RY(np.pi, wires=[2])\n",
    "    qml.RY(np.pi, wires=[3])\n",
    "    circE(wires=[0,1,2,3])\n",
    "\n",
    "U = qml.matrix(circ, wire_order=range(4))()\n",
    "L = np.eye(2**4).T\n",
    "R = np.kron(np.eye(2),[1,0,0,0,0,0,0,0])\n",
    "M = np.real_if_close(R.dot(U).dot(L))\n",
    "M = M/np.sqrt((M.T.dot(M.conj())).trace())\n",
    "Ma = iota_arr.reshape((2,2**4))\n",
    "Ma = Ma/np.sqrt((Ma.T.dot(Ma.conj())).trace())\n",
    "np.allclose(M,Ma)"
   ]
  }
 ],
 "metadata": {
  "kernelspec": {
   "display_name": "Python 3.10.4 ('QSVM')",
   "language": "python",
   "name": "python3"
  },
  "language_info": {
   "codemirror_mode": {
    "name": "ipython",
    "version": 3
   },
   "file_extension": ".py",
   "mimetype": "text/x-python",
   "name": "python",
   "nbconvert_exporter": "python",
   "pygments_lexer": "ipython3",
   "version": "3.10.6"
  },
  "orig_nbformat": 4,
  "vscode": {
   "interpreter": {
    "hash": "96ad6c7fd9d06889208fc918e485ee5403ac6f6c27ad3f857e9a26d0c3a3092d"
   }
  }
 },
 "nbformat": 4,
 "nbformat_minor": 2
}
